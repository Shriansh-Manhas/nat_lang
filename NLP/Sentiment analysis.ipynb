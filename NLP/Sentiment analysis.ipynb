{
 "cells": [
  {
   "cell_type": "code",
   "execution_count": 1,
   "metadata": {},
   "outputs": [],
   "source": [
    "import pandas as pd\n",
    "import re\n",
    "import nltk\n",
    "import matplotlib.pyplot as plt\n",
    "from sklearn.metrics import confusion_matrix,f1_score"
   ]
  },
  {
   "cell_type": "code",
   "execution_count": 2,
   "metadata": {},
   "outputs": [],
   "source": [
    "#words = set(nltk.corpus.words.words())"
   ]
  },
  {
   "cell_type": "code",
   "execution_count": 3,
   "metadata": {},
   "outputs": [],
   "source": [
    "sa = pd.read_csv(r\"C:\\Users\\bujib\\Desktop\\Python\\NLP\\train.csv\")"
   ]
  },
  {
   "cell_type": "code",
   "execution_count": 4,
   "metadata": {},
   "outputs": [
    {
     "data": {
      "text/plain": [
       "<bound method NDFrame.head of           id  label                                              tweet\n",
       "0          1      0   @user when a father is dysfunctional and is s...\n",
       "1          2      0  @user @user thanks for #lyft credit i can't us...\n",
       "2          3      0                                bihday your majesty\n",
       "3          4      0  #model   i love u take with u all the time in ...\n",
       "4          5      0             factsguide: society now    #motivation\n",
       "...      ...    ...                                                ...\n",
       "31957  31958      0  ate @user isz that youuu?ðððððð...\n",
       "31958  31959      0    to see nina turner on the airwaves trying to...\n",
       "31959  31960      0  listening to sad songs on a monday morning otw...\n",
       "31960  31961      1  @user #sikh #temple vandalised in in #calgary,...\n",
       "31961  31962      0                   thank you @user for you follow  \n",
       "\n",
       "[31962 rows x 3 columns]>"
      ]
     },
     "execution_count": 4,
     "metadata": {},
     "output_type": "execute_result"
    }
   ],
   "source": [
    "sa.head"
   ]
  },
  {
   "cell_type": "code",
   "execution_count": 5,
   "metadata": {},
   "outputs": [
    {
     "data": {
      "text/plain": [
       "<bound method NDFrame.tail of           id  label                                              tweet\n",
       "0          1      0   @user when a father is dysfunctional and is s...\n",
       "1          2      0  @user @user thanks for #lyft credit i can't us...\n",
       "2          3      0                                bihday your majesty\n",
       "3          4      0  #model   i love u take with u all the time in ...\n",
       "4          5      0             factsguide: society now    #motivation\n",
       "...      ...    ...                                                ...\n",
       "31957  31958      0  ate @user isz that youuu?ðððððð...\n",
       "31958  31959      0    to see nina turner on the airwaves trying to...\n",
       "31959  31960      0  listening to sad songs on a monday morning otw...\n",
       "31960  31961      1  @user #sikh #temple vandalised in in #calgary,...\n",
       "31961  31962      0                   thank you @user for you follow  \n",
       "\n",
       "[31962 rows x 3 columns]>"
      ]
     },
     "execution_count": 5,
     "metadata": {},
     "output_type": "execute_result"
    }
   ],
   "source": [
    "sa.tail"
   ]
  },
  {
   "cell_type": "code",
   "execution_count": 6,
   "metadata": {},
   "outputs": [
    {
     "data": {
      "text/plain": [
       "id        int64\n",
       "label     int64\n",
       "tweet    object\n",
       "dtype: object"
      ]
     },
     "execution_count": 6,
     "metadata": {},
     "output_type": "execute_result"
    }
   ],
   "source": [
    "sa.dtypes"
   ]
  },
  {
   "cell_type": "code",
   "execution_count": 7,
   "metadata": {},
   "outputs": [],
   "source": [
    "#sa['tweet'] = sa['tweet'].astype('str') "
   ]
  },
  {
   "cell_type": "code",
   "execution_count": 8,
   "metadata": {},
   "outputs": [],
   "source": [
    "#sa.dtypes"
   ]
  },
  {
   "cell_type": "code",
   "execution_count": 9,
   "metadata": {},
   "outputs": [],
   "source": [
    "#re.sub('@user', '', sa['tweet'], count=0, flags=0)"
   ]
  },
  {
   "cell_type": "code",
   "execution_count": 10,
   "metadata": {},
   "outputs": [],
   "source": [
    "sa.replace('@user','',regex=True, inplace = True)"
   ]
  },
  {
   "cell_type": "code",
   "execution_count": 11,
   "metadata": {},
   "outputs": [],
   "source": [
    "sa.replace('#','',regex=True, inplace = True)"
   ]
  },
  {
   "cell_type": "code",
   "execution_count": 12,
   "metadata": {},
   "outputs": [],
   "source": [
    "sa.replace('@',' ',regex=True, inplace = True)"
   ]
  },
  {
   "cell_type": "code",
   "execution_count": 13,
   "metadata": {},
   "outputs": [],
   "source": [
    "sa.replace(' -',' ',regex=True, inplace = True)"
   ]
  },
  {
   "cell_type": "code",
   "execution_count": 14,
   "metadata": {},
   "outputs": [],
   "source": [
    "sa.replace('â\\x80¦','',regex=True, inplace = True)"
   ]
  },
  {
   "cell_type": "code",
   "execution_count": 15,
   "metadata": {},
   "outputs": [],
   "source": [
    "sa.replace('&amp;',' ',regex=True, inplace = True)"
   ]
  },
  {
   "cell_type": "code",
   "execution_count": 16,
   "metadata": {},
   "outputs": [],
   "source": [
    "sa.replace('[0-9]',' ',regex=True, inplace = True)"
   ]
  },
  {
   "cell_type": "code",
   "execution_count": 17,
   "metadata": {},
   "outputs": [],
   "source": [
    "sa.replace('[!@#$%^&*,.;:()?]',' ',regex=True, inplace = True)"
   ]
  },
  {
   "cell_type": "code",
   "execution_count": 18,
   "metadata": {},
   "outputs": [],
   "source": [
    "#sa.replace('[ð±]',' ',regex=True, inplace = True)"
   ]
  },
  {
   "cell_type": "code",
   "execution_count": 19,
   "metadata": {},
   "outputs": [],
   "source": [
    "sa.replace(' a ',' ',regex=True, inplace = True)"
   ]
  },
  {
   "cell_type": "code",
   "execution_count": 20,
   "metadata": {},
   "outputs": [],
   "source": [
    "sa.replace(' the ',' ',regex=True, inplace = True)"
   ]
  },
  {
   "cell_type": "code",
   "execution_count": 21,
   "metadata": {},
   "outputs": [],
   "source": [
    "sa.replace(' is ',' ',regex=True, inplace = True)"
   ]
  },
  {
   "cell_type": "code",
   "execution_count": 22,
   "metadata": {},
   "outputs": [],
   "source": [
    "sa.replace(' of ',' ',regex=True, inplace = True)"
   ]
  },
  {
   "cell_type": "code",
   "execution_count": 23,
   "metadata": {},
   "outputs": [],
   "source": [
    "sa.replace(' to ',' ',regex=True, inplace = True)"
   ]
  },
  {
   "cell_type": "code",
   "execution_count": 24,
   "metadata": {},
   "outputs": [],
   "source": [
    "sa.replace(' i ',' ',regex=True, inplace = True)"
   ]
  },
  {
   "cell_type": "code",
   "execution_count": 25,
   "metadata": {},
   "outputs": [],
   "source": [
    "sa.replace(' in ',' ',regex=True, inplace = True)"
   ]
  },
  {
   "cell_type": "code",
   "execution_count": 26,
   "metadata": {},
   "outputs": [],
   "source": [
    "sa.replace('i ',' ',regex=True, inplace = True)"
   ]
  },
  {
   "cell_type": "code",
   "execution_count": 27,
   "metadata": {},
   "outputs": [],
   "source": [
    "sa.replace(\" i'm \",' ',regex=True, inplace = True)"
   ]
  },
  {
   "cell_type": "code",
   "execution_count": 28,
   "metadata": {},
   "outputs": [],
   "source": [
    "sa.replace(\" it's \",' ',regex=True, inplace = True)"
   ]
  },
  {
   "cell_type": "code",
   "execution_count": 29,
   "metadata": {},
   "outputs": [],
   "source": [
    "sa.replace(\" it \",' ',regex=True, inplace = True)"
   ]
  },
  {
   "cell_type": "code",
   "execution_count": 30,
   "metadata": {},
   "outputs": [],
   "source": [
    "sa.replace(\" don't \",' ',regex=True, inplace = True)"
   ]
  },
  {
   "cell_type": "code",
   "execution_count": 31,
   "metadata": {},
   "outputs": [],
   "source": [
    "sa.replace(\" am \",' ',regex=True, inplace = True)"
   ]
  },
  {
   "cell_type": "code",
   "execution_count": 32,
   "metadata": {},
   "outputs": [],
   "source": [
    "sa.replace(\" u \",' ',regex=True, inplace = True)"
   ]
  },
  {
   "cell_type": "code",
   "execution_count": 33,
   "metadata": {},
   "outputs": [],
   "source": [
    "sa.replace(\" can't \",' ',regex=True, inplace = True)"
   ]
  },
  {
   "cell_type": "code",
   "execution_count": 34,
   "metadata": {},
   "outputs": [],
   "source": [
    "sa.replace(\" by \",' ',regex=True, inplace = True)"
   ]
  },
  {
   "cell_type": "code",
   "execution_count": 35,
   "metadata": {},
   "outputs": [],
   "source": [
    "sa.replace(\" as \",' ',regex=True, inplace = True)"
   ]
  },
  {
   "cell_type": "code",
   "execution_count": 36,
   "metadata": {},
   "outputs": [],
   "source": [
    "sa.replace(\" be \",' ',regex=True, inplace = True)"
   ]
  },
  {
   "cell_type": "code",
   "execution_count": 37,
   "metadata": {},
   "outputs": [],
   "source": [
    "sa.replace('[^a-zA-Z]',' ',regex=True, inplace = True)"
   ]
  },
  {
   "cell_type": "code",
   "execution_count": 38,
   "metadata": {},
   "outputs": [
    {
     "data": {
      "text/plain": [
       "<bound method NDFrame.head of           id  label                                              tweet\n",
       "0          1      0    when father dysfunctional and so selfish he ...\n",
       "1          2      0    thanks for lyft credit use cause they offer ...\n",
       "2          3      0                                bihday your majesty\n",
       "3          4      0  model   love take with all time ur            ...\n",
       "4          5      0              factsguide  society now    motivation\n",
       "...      ...    ...                                                ...\n",
       "31957  31958      0  ate  isz that youuu                           ...\n",
       "31958  31959      0    see nina turner on airwaves trying wrap hers...\n",
       "31959  31960      0  listening sad songs on monday morning otw work...\n",
       "31960  31961      1   sikh temple vandalised in calgary  wso condem...\n",
       "31961  31962      0                        thank you  for you follow  \n",
       "\n",
       "[31962 rows x 3 columns]>"
      ]
     },
     "execution_count": 38,
     "metadata": {},
     "output_type": "execute_result"
    }
   ],
   "source": [
    "sa.head"
   ]
  },
  {
   "cell_type": "code",
   "execution_count": 39,
   "metadata": {},
   "outputs": [],
   "source": [
    "from collections import Counter"
   ]
  },
  {
   "cell_type": "code",
   "execution_count": 40,
   "metadata": {},
   "outputs": [],
   "source": [
    "#df = Counter(\" \".join(sa[\"tweet\"].str.lower()).split()).most_common(100)"
   ]
  },
  {
   "cell_type": "code",
   "execution_count": 41,
   "metadata": {},
   "outputs": [],
   "source": [
    "from wordcloud import WordCloud, ImageColorGenerator\n",
    "from PIL import Image"
   ]
  },
  {
   "cell_type": "code",
   "execution_count": 42,
   "metadata": {},
   "outputs": [],
   "source": [
    "#df"
   ]
  },
  {
   "cell_type": "code",
   "execution_count": 43,
   "metadata": {},
   "outputs": [],
   "source": [
    "clean_tweet = []\n",
    "for tweet in sa[\"tweet\"]:\n",
    "    clean_tweet.append(tweet)"
   ]
  },
  {
   "cell_type": "code",
   "execution_count": 44,
   "metadata": {},
   "outputs": [],
   "source": [
    "clean_tweets = ' '.join(map(str, clean_tweet))"
   ]
  },
  {
   "cell_type": "code",
   "execution_count": 45,
   "metadata": {
    "scrolled": false
   },
   "outputs": [],
   "source": [
    "counts = dict()\n",
    "words = clean_tweets.split()\n",
    "for word in words:\n",
    "    if word in counts:\n",
    "        counts[word] += 1\n",
    "    else:\n",
    "        counts[word] = 1    "
   ]
  },
  {
   "cell_type": "code",
   "execution_count": 46,
   "metadata": {},
   "outputs": [],
   "source": [
    "for x in counts.copy():\n",
    "    if len(x) <= 1:\n",
    "        counts.pop(x)"
   ]
  },
  {
   "cell_type": "code",
   "execution_count": 47,
   "metadata": {},
   "outputs": [
    {
     "data": {
      "text/plain": [
       "[('you', 5949),\n",
       " ('and', 4945),\n",
       " ('for', 4510),\n",
       " ('my', 3710),\n",
       " ('love', 2762),\n",
       " ('this', 2686),\n",
       " ('on', 2672),\n",
       " ('with', 2529),\n",
       " ('day', 2372),\n",
       " ('that', 2064),\n",
       " ('all', 2038),\n",
       " ('so', 1998),\n",
       " ('are', 1894),\n",
       " ('me', 1846),\n",
       " ('happy', 1705),\n",
       " ('your', 1702),\n",
       " ('at', 1655),\n",
       " ('have', 1642),\n",
       " ('we', 1580),\n",
       " ('just', 1367),\n",
       " ('will', 1276),\n",
       " ('when', 1269),\n",
       " ('not', 1225),\n",
       " ('do', 1209),\n",
       " ('what', 1175),\n",
       " ('life', 1161),\n",
       " ('like', 1160),\n",
       " ('time', 1146),\n",
       " ('but', 1111),\n",
       " ('today', 1089),\n",
       " ('from', 1058),\n",
       " ('up', 1035),\n",
       " ('now', 1007),\n",
       " ('new', 998),\n",
       " ('thankful', 951),\n",
       " ('out', 950),\n",
       " ('positive', 935),\n",
       " ('get', 923),\n",
       " ('was', 911),\n",
       " ('can', 894),\n",
       " ('people', 887),\n",
       " ('about', 871),\n",
       " ('how', 870),\n",
       " ('our', 867),\n",
       " ('bihday', 866),\n",
       " ('good', 861),\n",
       " ('no', 839),\n",
       " ('they', 834),\n",
       " ('one', 797),\n",
       " ('see', 762),\n",
       " ('more', 725),\n",
       " ('smile', 724),\n",
       " ('if', 697),\n",
       " ('go', 665),\n",
       " ('who', 662),\n",
       " ('father', 652),\n",
       " ('want', 652),\n",
       " ('he', 643),\n",
       " ('take', 625),\n",
       " ('work', 614),\n",
       " ('healthy', 606),\n",
       " ('re', 602),\n",
       " ('fun', 600),\n",
       " ('weekend', 597),\n",
       " ('an', 581),\n",
       " ('the', 574),\n",
       " ('summer', 572),\n",
       " ('has', 569),\n",
       " ('there', 568),\n",
       " ('or', 556),\n",
       " ('make', 552),\n",
       " ('family', 538),\n",
       " ('got', 535),\n",
       " ('us', 535),\n",
       " ('days', 528),\n",
       " ('friday', 525),\n",
       " ('best', 520),\n",
       " ('here', 518),\n",
       " ('great', 518),\n",
       " ('his', 515),\n",
       " ('need', 513),\n",
       " ('way', 513),\n",
       " ('friends', 511),\n",
       " ('beautiful', 509),\n",
       " ('why', 505),\n",
       " ('bull', 504),\n",
       " ('only', 498),\n",
       " ('going', 493),\n",
       " ('first', 486),\n",
       " ('really', 477),\n",
       " ('their', 472),\n",
       " ('wait', 466),\n",
       " ('morning', 464),\n",
       " ('music', 464),\n",
       " ('world', 461),\n",
       " ('back', 457),\n",
       " ('ur', 456),\n",
       " ('tomorrow', 446),\n",
       " ('week', 438),\n",
       " ('know', 437)]"
      ]
     },
     "execution_count": 47,
     "metadata": {},
     "output_type": "execute_result"
    }
   ],
   "source": [
    "Counter(counts).most_common(100)"
   ]
  },
  {
   "cell_type": "code",
   "execution_count": 48,
   "metadata": {},
   "outputs": [],
   "source": [
    "wc = WordCloud().generate_from_text(clean_tweets)"
   ]
  },
  {
   "cell_type": "code",
   "execution_count": 49,
   "metadata": {},
   "outputs": [
    {
     "data": {
      "image/png": "[encoded data removed]",
      "text/plain": [
       "<Figure size 432x288 with 1 Axes>"
      ]
     },
     "metadata": {
      "needs_background": "light"
     },
     "output_type": "display_data"
    }
   ],
   "source": [
    "plt.imshow(wc)\n",
    "plt.axis('off')\n",
    "plt.show()"
   ]
  },
  {
   "cell_type": "code",
   "execution_count": 50,
   "metadata": {},
   "outputs": [],
   "source": [
    "f = open(\"positive-words.txt\", \"r\")\n",
    "g = open(\"negative-words.txt\", \"r\")"
   ]
  },
  {
   "cell_type": "code",
   "execution_count": 51,
   "metadata": {},
   "outputs": [],
   "source": [
    "tempa = []\n",
    "tempb = []\n",
    "res1 = []\n",
    "res2 = []\n",
    "label2 = []"
   ]
  },
  {
   "cell_type": "code",
   "execution_count": 52,
   "metadata": {},
   "outputs": [],
   "source": [
    "for x in f:\n",
    "    temp1 = x.split()\n",
    "    tempa.append(temp1)\n",
    "    \n",
    "for x in g:\n",
    "    temp2 = x.split()\n",
    "    tempb.append(temp2)"
   ]
  },
  {
   "cell_type": "code",
   "execution_count": 53,
   "metadata": {},
   "outputs": [],
   "source": [
    "def flatlist(l):\n",
    "    for x in l:\n",
    "        if type(x) == list:\n",
    "            flatlist(x)\n",
    "        else:\n",
    "            res1.append(x)"
   ]
  },
  {
   "cell_type": "code",
   "execution_count": 54,
   "metadata": {},
   "outputs": [],
   "source": [
    "flatlist(tempa)"
   ]
  },
  {
   "cell_type": "code",
   "execution_count": 55,
   "metadata": {},
   "outputs": [],
   "source": [
    "def flatlist(l):\n",
    "    for x in l:\n",
    "        if type(x) == list:\n",
    "            flatlist(x)\n",
    "        else:\n",
    "            res2.append(x)"
   ]
  },
  {
   "cell_type": "code",
   "execution_count": 56,
   "metadata": {},
   "outputs": [],
   "source": [
    "flatlist(tempb)"
   ]
  },
  {
   "cell_type": "code",
   "execution_count": 57,
   "metadata": {},
   "outputs": [],
   "source": [
    "keywords = [\"not\"]"
   ]
  },
  {
   "cell_type": "code",
   "execution_count": 58,
   "metadata": {},
   "outputs": [],
   "source": [
    "for tweet in sa[\"tweet\"]:\n",
    "    temp2 = tweet.split()\n",
    "    i=0\n",
    "    if any(x in temp2 for x in res1):#positive\n",
    "        i+=1\n",
    "    if any(x in temp2 for x in res2):#negative\n",
    "        i-=1\n",
    "    for key in keywords:\n",
    "        if key in temp2:\n",
    "            if temp2.index(key)+1 == len(temp2):\n",
    "                break\n",
    "            elif temp2[temp2.index(key)+1] in res1:\n",
    "                i-=2\n",
    "    for key in keywords:\n",
    "        if key in temp2:\n",
    "            if temp2.index(key)+1 == len(temp2):\n",
    "                break\n",
    "            elif temp2[temp2.index(key)+1] in res2:\n",
    "                i+=2\n",
    "    if i>=0:\n",
    "        label2.append(0)\n",
    "    elif i<0:\n",
    "        label2.append(1)"
   ]
  },
  {
   "cell_type": "code",
   "execution_count": 59,
   "metadata": {},
   "outputs": [],
   "source": [
    "f.close()\n",
    "g.close()"
   ]
  },
  {
   "cell_type": "code",
   "execution_count": 60,
   "metadata": {},
   "outputs": [],
   "source": [
    "#print(temp2)"
   ]
  },
  {
   "cell_type": "code",
   "execution_count": 61,
   "metadata": {},
   "outputs": [
    {
     "data": {
      "text/plain": [
       "0        0\n",
       "1        0\n",
       "2        0\n",
       "3        0\n",
       "4        0\n",
       "        ..\n",
       "31957    0\n",
       "31958    0\n",
       "31959    0\n",
       "31960    1\n",
       "31961    0\n",
       "Name: label, Length: 31962, dtype: int64"
      ]
     },
     "execution_count": 61,
     "metadata": {},
     "output_type": "execute_result"
    }
   ],
   "source": [
    "sa[\"label\"]"
   ]
  },
  {
   "cell_type": "code",
   "execution_count": 62,
   "metadata": {},
   "outputs": [],
   "source": [
    "label = []"
   ]
  },
  {
   "cell_type": "code",
   "execution_count": 63,
   "metadata": {},
   "outputs": [],
   "source": [
    "label = sa[\"label\"]\n",
    "i=0\n",
    "j=0"
   ]
  },
  {
   "cell_type": "code",
   "execution_count": 64,
   "metadata": {},
   "outputs": [],
   "source": [
    "while i<31962:\n",
    "    if label2[i] == label[i]:\n",
    "        j+=1\n",
    "    i+=1"
   ]
  },
  {
   "cell_type": "code",
   "execution_count": 65,
   "metadata": {},
   "outputs": [
    {
     "data": {
      "text/plain": [
       "0.8230085726800576"
      ]
     },
     "execution_count": 65,
     "metadata": {},
     "output_type": "execute_result"
    }
   ],
   "source": [
    "j/31962"
   ]
  },
  {
   "cell_type": "code",
   "execution_count": 66,
   "metadata": {},
   "outputs": [
    {
     "data": {
      "text/plain": [
       "array([[25524,  4196],\n",
       "       [ 1461,   781]], dtype=int64)"
      ]
     },
     "execution_count": 66,
     "metadata": {},
     "output_type": "execute_result"
    }
   ],
   "source": [
    "confusion_matrix(label, label2)"
   ]
  },
  {
   "cell_type": "code",
   "execution_count": 67,
   "metadata": {},
   "outputs": [
    {
     "data": {
      "text/plain": [
       "0.5583057665858616"
      ]
     },
     "execution_count": 67,
     "metadata": {},
     "output_type": "execute_result"
    }
   ],
   "source": [
    "f1_score(label, label2, average='macro')"
   ]
  },
  {
   "cell_type": "code",
   "execution_count": null,
   "metadata": {},
   "outputs": [],
   "source": []
  },
  {
   "cell_type": "code",
   "execution_count": null,
   "metadata": {},
   "outputs": [],
   "source": []
  }
 ],
 "metadata": {
  "kernelspec": {
   "display_name": "Python 3",
   "language": "python",
   "name": "python3"
  },
  "language_info": {
   "codemirror_mode": {
    "name": "ipython",
    "version": 3
   },
   "file_extension": ".py",
   "mimetype": "text/x-python",
   "name": "python",
   "nbconvert_exporter": "python",
   "pygments_lexer": "ipython3",
   "version": "3.8.3"
  }
 },
 "nbformat": 4,
 "nbformat_minor": 4
}
